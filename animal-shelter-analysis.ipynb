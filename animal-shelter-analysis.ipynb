{
 "cells": [
  {
   "cell_type": "code",
   "execution_count": 1,
   "id": "2e27a0c3-e29f-4131-a85a-fffae74563cc",
   "metadata": {},
   "outputs": [],
   "source": [
    "import pandas as pd"
   ]
  },
  {
   "cell_type": "code",
   "execution_count": 2,
   "id": "9745f44f-90ea-409c-b957-c86a2915ab81",
   "metadata": {},
   "outputs": [],
   "source": [
    "outcomes = pd.read_csv('aac_outcomes.csv')"
   ]
  },
  {
   "cell_type": "code",
   "execution_count": 3,
   "id": "914e5c2f-77a0-4676-b90f-381ba4b5788e",
   "metadata": {},
   "outputs": [],
   "source": [
    "intakes = pd.read_csv('aac_intakes.csv')"
   ]
  },
  {
   "cell_type": "code",
   "execution_count": 4,
   "id": "8216669f-060d-4b21-aa33-59b2c4f7f5d0",
   "metadata": {},
   "outputs": [],
   "source": [
    "intake_outcomes = pd.read_csv('aac_intakes_outcomes.csv')"
   ]
  },
  {
   "cell_type": "code",
   "execution_count": 5,
   "id": "f1100c01-74d6-4c5b-bccf-2d7f734676fb",
   "metadata": {
    "scrolled": true
   },
   "outputs": [
    {
     "data": {
      "text/plain": [
       "age_upon_outcome               object\n",
       "animal_id_outcome              object\n",
       "date_of_birth                  object\n",
       "outcome_subtype                object\n",
       "outcome_type                   object\n",
       "sex_upon_outcome               object\n",
       "age_upon_outcome_(days)         int64\n",
       "age_upon_outcome_(years)      float64\n",
       "age_upon_outcome_age_group     object\n",
       "outcome_datetime               object\n",
       "outcome_month                   int64\n",
       "outcome_year                    int64\n",
       "outcome_monthyear              object\n",
       "outcome_weekday                object\n",
       "outcome_hour                    int64\n",
       "outcome_number                float64\n",
       "dob_year                        int64\n",
       "dob_month                       int64\n",
       "dob_monthyear                  object\n",
       "age_upon_intake                object\n",
       "animal_id_intake               object\n",
       "animal_type                    object\n",
       "breed                          object\n",
       "color                          object\n",
       "found_location                 object\n",
       "intake_condition               object\n",
       "intake_type                    object\n",
       "sex_upon_intake                object\n",
       "count                           int64\n",
       "age_upon_intake_(days)          int64\n",
       "age_upon_intake_(years)       float64\n",
       "age_upon_intake_age_group      object\n",
       "intake_datetime                object\n",
       "intake_month                    int64\n",
       "intake_year                     int64\n",
       "intake_monthyear               object\n",
       "intake_weekday                 object\n",
       "intake_hour                     int64\n",
       "intake_number                 float64\n",
       "time_in_shelter                object\n",
       "time_in_shelter_days          float64\n",
       "dtype: object"
      ]
     },
     "execution_count": 5,
     "metadata": {},
     "output_type": "execute_result"
    }
   ],
   "source": [
    "intake_outcomes.dtypes"
   ]
  },
  {
   "cell_type": "code",
   "execution_count": 6,
   "id": "dbc58c26-846c-49e9-9a0e-beffa942d976",
   "metadata": {},
   "outputs": [],
   "source": [
    "intake_outcomes['outcome_datetime'] = pd.to_datetime(intake_outcomes['outcome_datetime'], format='mixed')\n"
   ]
  },
  {
   "cell_type": "code",
   "execution_count": 7,
   "id": "ea500aaf-5505-427a-8513-d488c0db6f19",
   "metadata": {},
   "outputs": [],
   "source": [
    "intake_outcomes['intake_datetime'] = pd.to_datetime(intake_outcomes['intake_datetime'], format='mixed')\n"
   ]
  },
  {
   "cell_type": "code",
   "execution_count": 8,
   "id": "d4b5e7fa-67e3-4deb-904d-9db8b7a92eb9",
   "metadata": {},
   "outputs": [],
   "source": [
    "intake_outcomes['sex_upon_intake'] = intake_outcomes['sex_upon_intake'].str.strip().str.lower()\n",
    "intake_outcomes['sex_upon_outcome'] = intake_outcomes['sex_upon_outcome'].str.strip().str.lower()"
   ]
  },
  {
   "cell_type": "code",
   "execution_count": 9,
   "id": "d01cdc75-76ce-4f32-b0e1-d23f6f63c1f1",
   "metadata": {},
   "outputs": [
    {
     "data": {
      "text/plain": [
       "age_upon_intake     object\n",
       "animal_id           object\n",
       "animal_type         object\n",
       "breed               object\n",
       "color               object\n",
       "datetime            object\n",
       "datetime2           object\n",
       "found_location      object\n",
       "intake_condition    object\n",
       "intake_type         object\n",
       "name                object\n",
       "sex_upon_intake     object\n",
       "dtype: object"
      ]
     },
     "execution_count": 9,
     "metadata": {},
     "output_type": "execute_result"
    }
   ],
   "source": [
    "intakes.dtypes"
   ]
  },
  {
   "cell_type": "code",
   "execution_count": 10,
   "id": "18be7d13-5911-4425-8e33-c7abec7dd048",
   "metadata": {},
   "outputs": [
    {
     "data": {
      "text/plain": [
       "age_upon_outcome    object\n",
       "animal_id           object\n",
       "animal_type         object\n",
       "breed               object\n",
       "color               object\n",
       "date_of_birth       object\n",
       "datetime            object\n",
       "monthyear           object\n",
       "name                object\n",
       "outcome_subtype     object\n",
       "outcome_type        object\n",
       "sex_upon_outcome    object\n",
       "dtype: object"
      ]
     },
     "execution_count": 10,
     "metadata": {},
     "output_type": "execute_result"
    }
   ],
   "source": [
    "outcomes.dtypes"
   ]
  },
  {
   "cell_type": "code",
   "execution_count": 11,
   "id": "38f8bf2d-76db-4d9b-a96c-984fb7dd69f8",
   "metadata": {},
   "outputs": [],
   "source": [
    "outcomes['datetime'] = pd.to_datetime(outcomes['datetime'], format='mixed')\n"
   ]
  },
  {
   "cell_type": "code",
   "execution_count": 12,
   "id": "cd2fc24f-abb2-47a7-82de-9222c800906e",
   "metadata": {},
   "outputs": [
    {
     "data": {
      "text/plain": [
       "age_upon_outcome            object\n",
       "animal_id                   object\n",
       "animal_type                 object\n",
       "breed                       object\n",
       "color                       object\n",
       "date_of_birth               object\n",
       "datetime            datetime64[ns]\n",
       "monthyear                   object\n",
       "name                        object\n",
       "outcome_subtype             object\n",
       "outcome_type                object\n",
       "sex_upon_outcome            object\n",
       "dtype: object"
      ]
     },
     "execution_count": 12,
     "metadata": {},
     "output_type": "execute_result"
    }
   ],
   "source": [
    "outcomes.dtypes"
   ]
  },
  {
   "cell_type": "code",
   "execution_count": 13,
   "id": "34446652-986c-44b7-b6b7-7d56decfddc1",
   "metadata": {
    "scrolled": true
   },
   "outputs": [
    {
     "name": "stdout",
     "output_type": "stream",
     "text": [
      "<class 'pandas.core.frame.DataFrame'>\n",
      "RangeIndex: 79672 entries, 0 to 79671\n",
      "Data columns (total 41 columns):\n",
      " #   Column                      Non-Null Count  Dtype         \n",
      "---  ------                      --------------  -----         \n",
      " 0   age_upon_outcome            79672 non-null  object        \n",
      " 1   animal_id_outcome           79672 non-null  object        \n",
      " 2   date_of_birth               79672 non-null  object        \n",
      " 3   outcome_subtype             36348 non-null  object        \n",
      " 4   outcome_type                79662 non-null  object        \n",
      " 5   sex_upon_outcome            79671 non-null  object        \n",
      " 6   age_upon_outcome_(days)     79672 non-null  int64         \n",
      " 7   age_upon_outcome_(years)    79672 non-null  float64       \n",
      " 8   age_upon_outcome_age_group  79672 non-null  object        \n",
      " 9   outcome_datetime            79672 non-null  datetime64[ns]\n",
      " 10  outcome_month               79672 non-null  int64         \n",
      " 11  outcome_year                79672 non-null  int64         \n",
      " 12  outcome_monthyear           79672 non-null  object        \n",
      " 13  outcome_weekday             79672 non-null  object        \n",
      " 14  outcome_hour                79672 non-null  int64         \n",
      " 15  outcome_number              79672 non-null  float64       \n",
      " 16  dob_year                    79672 non-null  int64         \n",
      " 17  dob_month                   79672 non-null  int64         \n",
      " 18  dob_monthyear               79672 non-null  object        \n",
      " 19  age_upon_intake             79672 non-null  object        \n",
      " 20  animal_id_intake            79672 non-null  object        \n",
      " 21  animal_type                 79672 non-null  object        \n",
      " 22  breed                       79672 non-null  object        \n",
      " 23  color                       79672 non-null  object        \n",
      " 24  found_location              79672 non-null  object        \n",
      " 25  intake_condition            79672 non-null  object        \n",
      " 26  intake_type                 79672 non-null  object        \n",
      " 27  sex_upon_intake             79671 non-null  object        \n",
      " 28  count                       79672 non-null  int64         \n",
      " 29  age_upon_intake_(days)      79672 non-null  int64         \n",
      " 30  age_upon_intake_(years)     79672 non-null  float64       \n",
      " 31  age_upon_intake_age_group   79672 non-null  object        \n",
      " 32  intake_datetime             79672 non-null  datetime64[ns]\n",
      " 33  intake_month                79672 non-null  int64         \n",
      " 34  intake_year                 79672 non-null  int64         \n",
      " 35  intake_monthyear            79672 non-null  object        \n",
      " 36  intake_weekday              79672 non-null  object        \n",
      " 37  intake_hour                 79672 non-null  int64         \n",
      " 38  intake_number               79672 non-null  float64       \n",
      " 39  time_in_shelter             79672 non-null  object        \n",
      " 40  time_in_shelter_days        79672 non-null  float64       \n",
      "dtypes: datetime64[ns](2), float64(5), int64(11), object(23)\n",
      "memory usage: 24.9+ MB\n"
     ]
    }
   ],
   "source": [
    "intake_outcomes.head()\n",
    "intake_outcomes.info()"
   ]
  },
  {
   "cell_type": "code",
   "execution_count": 14,
   "id": "9f8960a0-7e1f-46a0-95fb-5abc494fd28a",
   "metadata": {},
   "outputs": [],
   "source": [
    "intake_outcomes['outcome_type'] = intake_outcomes['outcome_type'].str.strip().str.lower()"
   ]
  },
  {
   "cell_type": "code",
   "execution_count": 15,
   "id": "201e9f2f-19bf-4a3d-836d-c0e821cda001",
   "metadata": {},
   "outputs": [
    {
     "data": {
      "text/html": [
       "<div>\n",
       "<style scoped>\n",
       "    .dataframe tbody tr th:only-of-type {\n",
       "        vertical-align: middle;\n",
       "    }\n",
       "\n",
       "    .dataframe tbody tr th {\n",
       "        vertical-align: top;\n",
       "    }\n",
       "\n",
       "    .dataframe thead th {\n",
       "        text-align: right;\n",
       "    }\n",
       "</style>\n",
       "<table border=\"1\" class=\"dataframe\">\n",
       "  <thead>\n",
       "    <tr style=\"text-align: right;\">\n",
       "      <th></th>\n",
       "      <th>age_upon_intake</th>\n",
       "      <th>animal_id</th>\n",
       "      <th>animal_type</th>\n",
       "      <th>breed</th>\n",
       "      <th>color</th>\n",
       "      <th>datetime</th>\n",
       "      <th>datetime2</th>\n",
       "      <th>found_location</th>\n",
       "      <th>intake_condition</th>\n",
       "      <th>intake_type</th>\n",
       "      <th>name</th>\n",
       "      <th>sex_upon_intake</th>\n",
       "    </tr>\n",
       "  </thead>\n",
       "  <tbody>\n",
       "    <tr>\n",
       "      <th>0</th>\n",
       "      <td>8 years</td>\n",
       "      <td>A706918</td>\n",
       "      <td>Dog</td>\n",
       "      <td>English Springer Spaniel</td>\n",
       "      <td>White/Liver</td>\n",
       "      <td>2015-07-05T12:59:00.000</td>\n",
       "      <td>2015-07-05T12:59:00.000</td>\n",
       "      <td>9409 Bluegrass Dr in Austin (TX)</td>\n",
       "      <td>Normal</td>\n",
       "      <td>Stray</td>\n",
       "      <td>Belle</td>\n",
       "      <td>Spayed Female</td>\n",
       "    </tr>\n",
       "    <tr>\n",
       "      <th>1</th>\n",
       "      <td>11 months</td>\n",
       "      <td>A724273</td>\n",
       "      <td>Dog</td>\n",
       "      <td>Basenji Mix</td>\n",
       "      <td>Sable/White</td>\n",
       "      <td>2016-04-14T18:43:00.000</td>\n",
       "      <td>2016-04-14T18:43:00.000</td>\n",
       "      <td>2818 Palomino Trail in Austin (TX)</td>\n",
       "      <td>Normal</td>\n",
       "      <td>Stray</td>\n",
       "      <td>Runster</td>\n",
       "      <td>Intact Male</td>\n",
       "    </tr>\n",
       "    <tr>\n",
       "      <th>2</th>\n",
       "      <td>4 weeks</td>\n",
       "      <td>A665644</td>\n",
       "      <td>Cat</td>\n",
       "      <td>Domestic Shorthair Mix</td>\n",
       "      <td>Calico</td>\n",
       "      <td>2013-10-21T07:59:00.000</td>\n",
       "      <td>2013-10-21T07:59:00.000</td>\n",
       "      <td>Austin (TX)</td>\n",
       "      <td>Sick</td>\n",
       "      <td>Stray</td>\n",
       "      <td>NaN</td>\n",
       "      <td>Intact Female</td>\n",
       "    </tr>\n",
       "    <tr>\n",
       "      <th>3</th>\n",
       "      <td>4 years</td>\n",
       "      <td>A682524</td>\n",
       "      <td>Dog</td>\n",
       "      <td>Doberman Pinsch/Australian Cattle Dog</td>\n",
       "      <td>Tan/Gray</td>\n",
       "      <td>2014-06-29T10:38:00.000</td>\n",
       "      <td>2014-06-29T10:38:00.000</td>\n",
       "      <td>800 Grove Blvd in Austin (TX)</td>\n",
       "      <td>Normal</td>\n",
       "      <td>Stray</td>\n",
       "      <td>Rio</td>\n",
       "      <td>Neutered Male</td>\n",
       "    </tr>\n",
       "    <tr>\n",
       "      <th>4</th>\n",
       "      <td>2 years</td>\n",
       "      <td>A743852</td>\n",
       "      <td>Dog</td>\n",
       "      <td>Labrador Retriever Mix</td>\n",
       "      <td>Chocolate</td>\n",
       "      <td>2017-02-18T12:46:00.000</td>\n",
       "      <td>2017-02-18T12:46:00.000</td>\n",
       "      <td>Austin (TX)</td>\n",
       "      <td>Normal</td>\n",
       "      <td>Owner Surrender</td>\n",
       "      <td>Odin</td>\n",
       "      <td>Neutered Male</td>\n",
       "    </tr>\n",
       "  </tbody>\n",
       "</table>\n",
       "</div>"
      ],
      "text/plain": [
       "  age_upon_intake animal_id animal_type  \\\n",
       "0         8 years   A706918         Dog   \n",
       "1       11 months   A724273         Dog   \n",
       "2         4 weeks   A665644         Cat   \n",
       "3         4 years   A682524         Dog   \n",
       "4         2 years   A743852         Dog   \n",
       "\n",
       "                                   breed        color  \\\n",
       "0               English Springer Spaniel  White/Liver   \n",
       "1                            Basenji Mix  Sable/White   \n",
       "2                 Domestic Shorthair Mix       Calico   \n",
       "3  Doberman Pinsch/Australian Cattle Dog     Tan/Gray   \n",
       "4                 Labrador Retriever Mix    Chocolate   \n",
       "\n",
       "                  datetime                datetime2  \\\n",
       "0  2015-07-05T12:59:00.000  2015-07-05T12:59:00.000   \n",
       "1  2016-04-14T18:43:00.000  2016-04-14T18:43:00.000   \n",
       "2  2013-10-21T07:59:00.000  2013-10-21T07:59:00.000   \n",
       "3  2014-06-29T10:38:00.000  2014-06-29T10:38:00.000   \n",
       "4  2017-02-18T12:46:00.000  2017-02-18T12:46:00.000   \n",
       "\n",
       "                       found_location intake_condition      intake_type  \\\n",
       "0    9409 Bluegrass Dr in Austin (TX)           Normal            Stray   \n",
       "1  2818 Palomino Trail in Austin (TX)           Normal            Stray   \n",
       "2                         Austin (TX)             Sick            Stray   \n",
       "3       800 Grove Blvd in Austin (TX)           Normal            Stray   \n",
       "4                         Austin (TX)           Normal  Owner Surrender   \n",
       "\n",
       "      name sex_upon_intake  \n",
       "0    Belle   Spayed Female  \n",
       "1  Runster     Intact Male  \n",
       "2      NaN   Intact Female  \n",
       "3      Rio   Neutered Male  \n",
       "4     Odin   Neutered Male  "
      ]
     },
     "execution_count": 15,
     "metadata": {},
     "output_type": "execute_result"
    }
   ],
   "source": [
    "intakes.head()"
   ]
  },
  {
   "cell_type": "code",
   "execution_count": 16,
   "id": "15cfdae1-37fd-4ec6-88ff-8b33d15a14ff",
   "metadata": {},
   "outputs": [
    {
     "data": {
      "text/html": [
       "<div>\n",
       "<style scoped>\n",
       "    .dataframe tbody tr th:only-of-type {\n",
       "        vertical-align: middle;\n",
       "    }\n",
       "\n",
       "    .dataframe tbody tr th {\n",
       "        vertical-align: top;\n",
       "    }\n",
       "\n",
       "    .dataframe thead th {\n",
       "        text-align: right;\n",
       "    }\n",
       "</style>\n",
       "<table border=\"1\" class=\"dataframe\">\n",
       "  <thead>\n",
       "    <tr style=\"text-align: right;\">\n",
       "      <th></th>\n",
       "      <th>age_upon_outcome</th>\n",
       "      <th>animal_id</th>\n",
       "      <th>animal_type</th>\n",
       "      <th>breed</th>\n",
       "      <th>color</th>\n",
       "      <th>date_of_birth</th>\n",
       "      <th>datetime</th>\n",
       "      <th>monthyear</th>\n",
       "      <th>name</th>\n",
       "      <th>outcome_subtype</th>\n",
       "      <th>outcome_type</th>\n",
       "      <th>sex_upon_outcome</th>\n",
       "    </tr>\n",
       "  </thead>\n",
       "  <tbody>\n",
       "    <tr>\n",
       "      <th>0</th>\n",
       "      <td>2 weeks</td>\n",
       "      <td>A684346</td>\n",
       "      <td>Cat</td>\n",
       "      <td>Domestic Shorthair Mix</td>\n",
       "      <td>Orange Tabby</td>\n",
       "      <td>2014-07-07T00:00:00</td>\n",
       "      <td>2014-07-22 16:04:00</td>\n",
       "      <td>2014-07-22T16:04:00</td>\n",
       "      <td>NaN</td>\n",
       "      <td>Partner</td>\n",
       "      <td>Transfer</td>\n",
       "      <td>Intact Male</td>\n",
       "    </tr>\n",
       "    <tr>\n",
       "      <th>1</th>\n",
       "      <td>1 year</td>\n",
       "      <td>A666430</td>\n",
       "      <td>Dog</td>\n",
       "      <td>Beagle Mix</td>\n",
       "      <td>White/Brown</td>\n",
       "      <td>2012-11-06T00:00:00</td>\n",
       "      <td>2013-11-07 11:47:00</td>\n",
       "      <td>2013-11-07T11:47:00</td>\n",
       "      <td>Lucy</td>\n",
       "      <td>Partner</td>\n",
       "      <td>Transfer</td>\n",
       "      <td>Spayed Female</td>\n",
       "    </tr>\n",
       "    <tr>\n",
       "      <th>2</th>\n",
       "      <td>1 year</td>\n",
       "      <td>A675708</td>\n",
       "      <td>Dog</td>\n",
       "      <td>Pit Bull</td>\n",
       "      <td>Blue/White</td>\n",
       "      <td>2013-03-31T00:00:00</td>\n",
       "      <td>2014-06-03 14:20:00</td>\n",
       "      <td>2014-06-03T14:20:00</td>\n",
       "      <td>*Johnny</td>\n",
       "      <td>NaN</td>\n",
       "      <td>Adoption</td>\n",
       "      <td>Neutered Male</td>\n",
       "    </tr>\n",
       "    <tr>\n",
       "      <th>3</th>\n",
       "      <td>9 years</td>\n",
       "      <td>A680386</td>\n",
       "      <td>Dog</td>\n",
       "      <td>Miniature Schnauzer Mix</td>\n",
       "      <td>White</td>\n",
       "      <td>2005-06-02T00:00:00</td>\n",
       "      <td>2014-06-15 15:50:00</td>\n",
       "      <td>2014-06-15T15:50:00</td>\n",
       "      <td>Monday</td>\n",
       "      <td>Partner</td>\n",
       "      <td>Transfer</td>\n",
       "      <td>Neutered Male</td>\n",
       "    </tr>\n",
       "    <tr>\n",
       "      <th>4</th>\n",
       "      <td>5 months</td>\n",
       "      <td>A683115</td>\n",
       "      <td>Other</td>\n",
       "      <td>Bat Mix</td>\n",
       "      <td>Brown</td>\n",
       "      <td>2014-01-07T00:00:00</td>\n",
       "      <td>2014-07-07 14:04:00</td>\n",
       "      <td>2014-07-07T14:04:00</td>\n",
       "      <td>NaN</td>\n",
       "      <td>Rabies Risk</td>\n",
       "      <td>Euthanasia</td>\n",
       "      <td>Unknown</td>\n",
       "    </tr>\n",
       "  </tbody>\n",
       "</table>\n",
       "</div>"
      ],
      "text/plain": [
       "  age_upon_outcome animal_id animal_type                    breed  \\\n",
       "0          2 weeks   A684346         Cat   Domestic Shorthair Mix   \n",
       "1           1 year   A666430         Dog               Beagle Mix   \n",
       "2           1 year   A675708         Dog                 Pit Bull   \n",
       "3          9 years   A680386         Dog  Miniature Schnauzer Mix   \n",
       "4         5 months   A683115       Other                  Bat Mix   \n",
       "\n",
       "          color        date_of_birth            datetime            monthyear  \\\n",
       "0  Orange Tabby  2014-07-07T00:00:00 2014-07-22 16:04:00  2014-07-22T16:04:00   \n",
       "1   White/Brown  2012-11-06T00:00:00 2013-11-07 11:47:00  2013-11-07T11:47:00   \n",
       "2    Blue/White  2013-03-31T00:00:00 2014-06-03 14:20:00  2014-06-03T14:20:00   \n",
       "3         White  2005-06-02T00:00:00 2014-06-15 15:50:00  2014-06-15T15:50:00   \n",
       "4         Brown  2014-01-07T00:00:00 2014-07-07 14:04:00  2014-07-07T14:04:00   \n",
       "\n",
       "      name outcome_subtype outcome_type sex_upon_outcome  \n",
       "0      NaN         Partner     Transfer      Intact Male  \n",
       "1     Lucy         Partner     Transfer    Spayed Female  \n",
       "2  *Johnny             NaN     Adoption    Neutered Male  \n",
       "3   Monday         Partner     Transfer    Neutered Male  \n",
       "4      NaN     Rabies Risk   Euthanasia          Unknown  "
      ]
     },
     "execution_count": 16,
     "metadata": {},
     "output_type": "execute_result"
    }
   ],
   "source": [
    "outcomes.head()"
   ]
  },
  {
   "cell_type": "code",
   "execution_count": 17,
   "id": "9f3ed7ef-a331-4d86-a003-8e9922199c53",
   "metadata": {},
   "outputs": [
    {
     "name": "stdout",
     "output_type": "stream",
     "text": [
      "<class 'pandas.core.frame.DataFrame'>\n",
      "RangeIndex: 80681 entries, 0 to 80680\n",
      "Data columns (total 12 columns):\n",
      " #   Column            Non-Null Count  Dtype         \n",
      "---  ------            --------------  -----         \n",
      " 0   age_upon_outcome  80673 non-null  object        \n",
      " 1   animal_id         80681 non-null  object        \n",
      " 2   animal_type       80681 non-null  object        \n",
      " 3   breed             80681 non-null  object        \n",
      " 4   color             80681 non-null  object        \n",
      " 5   date_of_birth     80681 non-null  object        \n",
      " 6   datetime          80681 non-null  datetime64[ns]\n",
      " 7   monthyear         80681 non-null  object        \n",
      " 8   name              56116 non-null  object        \n",
      " 9   outcome_subtype   36893 non-null  object        \n",
      " 10  outcome_type      80667 non-null  object        \n",
      " 11  sex_upon_outcome  80679 non-null  object        \n",
      "dtypes: datetime64[ns](1), object(11)\n",
      "memory usage: 7.4+ MB\n"
     ]
    }
   ],
   "source": [
    "outcomes.info()"
   ]
  },
  {
   "cell_type": "code",
   "execution_count": 18,
   "id": "54aa395a-daba-4352-b6a6-664e70fd583b",
   "metadata": {},
   "outputs": [
    {
     "name": "stdout",
     "output_type": "stream",
     "text": [
      "<class 'pandas.core.frame.DataFrame'>\n",
      "RangeIndex: 80187 entries, 0 to 80186\n",
      "Data columns (total 12 columns):\n",
      " #   Column            Non-Null Count  Dtype \n",
      "---  ------            --------------  ----- \n",
      " 0   age_upon_intake   80187 non-null  object\n",
      " 1   animal_id         80187 non-null  object\n",
      " 2   animal_type       80187 non-null  object\n",
      " 3   breed             80187 non-null  object\n",
      " 4   color             80187 non-null  object\n",
      " 5   datetime          80187 non-null  object\n",
      " 6   datetime2         80187 non-null  object\n",
      " 7   found_location    80187 non-null  object\n",
      " 8   intake_condition  80187 non-null  object\n",
      " 9   intake_type       80187 non-null  object\n",
      " 10  name              55603 non-null  object\n",
      " 11  sex_upon_intake   80186 non-null  object\n",
      "dtypes: object(12)\n",
      "memory usage: 7.3+ MB\n"
     ]
    }
   ],
   "source": [
    "intakes.info()"
   ]
  },
  {
   "cell_type": "code",
   "execution_count": 19,
   "id": "8a1e1aab-20a5-4762-9392-28eb504440e2",
   "metadata": {},
   "outputs": [],
   "source": [
    "combined_df = pd.merge(\n",
    "    intakes,\n",
    "    outcomes,\n",
    "    on =  'animal_id',\n",
    "    how = 'left',\n",
    "    suffixes=('_intakes', '_outcomes')\n",
    ")"
   ]
  },
  {
   "cell_type": "code",
   "execution_count": 20,
   "id": "92233c4d-882b-4308-a6ee-42871adbdc6e",
   "metadata": {},
   "outputs": [
    {
     "name": "stdout",
     "output_type": "stream",
     "text": [
      "<class 'pandas.core.frame.DataFrame'>\n",
      "RangeIndex: 100627 entries, 0 to 100626\n",
      "Data columns (total 23 columns):\n",
      " #   Column                Non-Null Count   Dtype         \n",
      "---  ------                --------------   -----         \n",
      " 0   age_upon_intake       100627 non-null  object        \n",
      " 1   animal_id             100627 non-null  object        \n",
      " 2   animal_type_intakes   100627 non-null  object        \n",
      " 3   breed_intakes         100627 non-null  object        \n",
      " 4   color_intakes         100627 non-null  object        \n",
      " 5   datetime_intakes      100627 non-null  object        \n",
      " 6   datetime2             100627 non-null  object        \n",
      " 7   found_location        100627 non-null  object        \n",
      " 8   intake_condition      100627 non-null  object        \n",
      " 9   intake_type           100627 non-null  object        \n",
      " 10  name_intakes          75527 non-null   object        \n",
      " 11  sex_upon_intake       100626 non-null  object        \n",
      " 12  age_upon_outcome      100226 non-null  object        \n",
      " 13  animal_type_outcomes  100230 non-null  object        \n",
      " 14  breed_outcomes        100230 non-null  object        \n",
      " 15  color_outcomes        100230 non-null  object        \n",
      " 16  date_of_birth         100230 non-null  object        \n",
      " 17  datetime_outcomes     100230 non-null  datetime64[ns]\n",
      " 18  monthyear             100230 non-null  object        \n",
      " 19  name_outcomes         75263 non-null   object        \n",
      " 20  outcome_subtype       39711 non-null   object        \n",
      " 21  outcome_type          100214 non-null  object        \n",
      " 22  sex_upon_outcome      100228 non-null  object        \n",
      "dtypes: datetime64[ns](1), object(22)\n",
      "memory usage: 17.7+ MB\n"
     ]
    }
   ],
   "source": [
    "combined_df.info()"
   ]
  },
  {
   "cell_type": "markdown",
   "id": "42ec1f8d-275a-410c-a819-d083a037433f",
   "metadata": {},
   "source": [
    "## 1)Find the top 5 places where animals are found so the shelter can coordinate with local volunteers and animal control to monitor these areas."
   ]
  },
  {
   "cell_type": "markdown",
   "id": "3f572d38-e678-4b16-959b-a456632f092c",
   "metadata": {},
   "source": [
    "## *Areas where more animals are found"
   ]
  },
  {
   "cell_type": "code",
   "execution_count": 21,
   "id": "d3ac3c14-6d57-4f6f-98f3-7c2dcfbcff93",
   "metadata": {},
   "outputs": [
    {
     "name": "stdout",
     "output_type": "stream",
     "text": [
      "found_location\n",
      "Austin (TX)                          14443\n",
      "Outside Jurisdiction                   948\n",
      "Travis (TX)                            921\n",
      "7201 Levander Loop in Austin (TX)      517\n",
      "Del Valle (TX)                         411\n",
      "Name: count, dtype: int64\n"
     ]
    }
   ],
   "source": [
    "top_5_places = intakes['found_location'].value_counts().head(5)\n",
    "print(top_5_places)"
   ]
  },
  {
   "cell_type": "markdown",
   "id": "eaec1207-8899-4222-856e-3a9384c0b583",
   "metadata": {},
   "source": [
    "### *Top 5 places found by counting the number of occurences based off the \"found_location\" column"
   ]
  },
  {
   "cell_type": "markdown",
   "id": "d43309e9-8375-4daf-93d1-6fd54aa1baaf",
   "metadata": {},
   "source": [
    "## 2)What is the average number of pets found in a month in the year 2015? Are there months where there is a higher number of animals found?\n"
   ]
  },
  {
   "cell_type": "code",
   "execution_count": 22,
   "id": "8cb5bdf7-7c8b-47d8-9667-ec785cae9594",
   "metadata": {},
   "outputs": [
    {
     "name": "stdout",
     "output_type": "stream",
     "text": [
      "<class 'pandas.core.frame.DataFrame'>\n",
      "RangeIndex: 80187 entries, 0 to 80186\n",
      "Data columns (total 12 columns):\n",
      " #   Column            Non-Null Count  Dtype \n",
      "---  ------            --------------  ----- \n",
      " 0   age_upon_intake   80187 non-null  object\n",
      " 1   animal_id         80187 non-null  object\n",
      " 2   animal_type       80187 non-null  object\n",
      " 3   breed             80187 non-null  object\n",
      " 4   color             80187 non-null  object\n",
      " 5   datetime          80187 non-null  object\n",
      " 6   datetime2         80187 non-null  object\n",
      " 7   found_location    80187 non-null  object\n",
      " 8   intake_condition  80187 non-null  object\n",
      " 9   intake_type       80187 non-null  object\n",
      " 10  name              55603 non-null  object\n",
      " 11  sex_upon_intake   80186 non-null  object\n",
      "dtypes: object(12)\n",
      "memory usage: 7.3+ MB\n"
     ]
    }
   ],
   "source": [
    "intakes.info()\n",
    "intakes = intakes.drop(columns=['datetime2'])\n",
    "intakes['datetime'] = pd.to_datetime(intakes['datetime'])"
   ]
  },
  {
   "cell_type": "code",
   "execution_count": 23,
   "id": "61bd8cab-9771-4e86-a994-f7310eecb224",
   "metadata": {},
   "outputs": [
    {
     "name": "stdout",
     "output_type": "stream",
     "text": [
      "<class 'pandas.core.frame.DataFrame'>\n",
      "RangeIndex: 80187 entries, 0 to 80186\n",
      "Data columns (total 11 columns):\n",
      " #   Column            Non-Null Count  Dtype         \n",
      "---  ------            --------------  -----         \n",
      " 0   age_upon_intake   80187 non-null  object        \n",
      " 1   animal_id         80187 non-null  object        \n",
      " 2   animal_type       80187 non-null  object        \n",
      " 3   breed             80187 non-null  object        \n",
      " 4   color             80187 non-null  object        \n",
      " 5   datetime          80187 non-null  datetime64[ns]\n",
      " 6   found_location    80187 non-null  object        \n",
      " 7   intake_condition  80187 non-null  object        \n",
      " 8   intake_type       80187 non-null  object        \n",
      " 9   name              55603 non-null  object        \n",
      " 10  sex_upon_intake   80186 non-null  object        \n",
      "dtypes: datetime64[ns](1), object(10)\n",
      "memory usage: 6.7+ MB\n"
     ]
    }
   ],
   "source": [
    "intakes.info()"
   ]
  },
  {
   "cell_type": "code",
   "execution_count": 24,
   "id": "31870f37-c9c9-4413-9c12-2866fb52fa50",
   "metadata": {},
   "outputs": [],
   "source": [
    "intakes_2015 = intakes[intakes['datetime'].dt.year == 2015]"
   ]
  },
  {
   "cell_type": "code",
   "execution_count": 25,
   "id": "1b2016c6-2686-4da6-824c-4d404c9fcc52",
   "metadata": {},
   "outputs": [
    {
     "data": {
      "text/html": [
       "<div>\n",
       "<style scoped>\n",
       "    .dataframe tbody tr th:only-of-type {\n",
       "        vertical-align: middle;\n",
       "    }\n",
       "\n",
       "    .dataframe tbody tr th {\n",
       "        vertical-align: top;\n",
       "    }\n",
       "\n",
       "    .dataframe thead th {\n",
       "        text-align: right;\n",
       "    }\n",
       "</style>\n",
       "<table border=\"1\" class=\"dataframe\">\n",
       "  <thead>\n",
       "    <tr style=\"text-align: right;\">\n",
       "      <th></th>\n",
       "      <th>age_upon_intake</th>\n",
       "      <th>animal_id</th>\n",
       "      <th>animal_type</th>\n",
       "      <th>breed</th>\n",
       "      <th>color</th>\n",
       "      <th>datetime</th>\n",
       "      <th>found_location</th>\n",
       "      <th>intake_condition</th>\n",
       "      <th>intake_type</th>\n",
       "      <th>name</th>\n",
       "      <th>sex_upon_intake</th>\n",
       "    </tr>\n",
       "  </thead>\n",
       "  <tbody>\n",
       "    <tr>\n",
       "      <th>0</th>\n",
       "      <td>8 years</td>\n",
       "      <td>A706918</td>\n",
       "      <td>Dog</td>\n",
       "      <td>English Springer Spaniel</td>\n",
       "      <td>White/Liver</td>\n",
       "      <td>2015-07-05 12:59:00</td>\n",
       "      <td>9409 Bluegrass Dr in Austin (TX)</td>\n",
       "      <td>Normal</td>\n",
       "      <td>Stray</td>\n",
       "      <td>Belle</td>\n",
       "      <td>Spayed Female</td>\n",
       "    </tr>\n",
       "    <tr>\n",
       "      <th>5</th>\n",
       "      <td>2 years</td>\n",
       "      <td>A708452</td>\n",
       "      <td>Dog</td>\n",
       "      <td>Labrador Retriever Mix</td>\n",
       "      <td>Black/White</td>\n",
       "      <td>2015-07-30 14:37:00</td>\n",
       "      <td>Austin (TX)</td>\n",
       "      <td>Normal</td>\n",
       "      <td>Public Assist</td>\n",
       "      <td>Mumble</td>\n",
       "      <td>Intact Male</td>\n",
       "    </tr>\n",
       "    <tr>\n",
       "      <th>8</th>\n",
       "      <td>5 months</td>\n",
       "      <td>A707375</td>\n",
       "      <td>Dog</td>\n",
       "      <td>Pit Bull</td>\n",
       "      <td>Brown/White</td>\n",
       "      <td>2015-07-11 18:19:00</td>\n",
       "      <td>Galilee Court And Damita Jo Dr in Manor (TX)</td>\n",
       "      <td>Normal</td>\n",
       "      <td>Stray</td>\n",
       "      <td>*Candy Cane</td>\n",
       "      <td>Intact Female</td>\n",
       "    </tr>\n",
       "    <tr>\n",
       "      <th>9</th>\n",
       "      <td>2 years</td>\n",
       "      <td>A696408</td>\n",
       "      <td>Dog</td>\n",
       "      <td>Chihuahua Shorthair</td>\n",
       "      <td>Tricolor</td>\n",
       "      <td>2015-02-04 12:58:00</td>\n",
       "      <td>9705 Thaxton in Austin (TX)</td>\n",
       "      <td>Normal</td>\n",
       "      <td>Stray</td>\n",
       "      <td>*Pearl</td>\n",
       "      <td>Intact Female</td>\n",
       "    </tr>\n",
       "    <tr>\n",
       "      <th>12</th>\n",
       "      <td>4 weeks</td>\n",
       "      <td>A707658</td>\n",
       "      <td>Cat</td>\n",
       "      <td>Domestic Shorthair Mix</td>\n",
       "      <td>Black/White</td>\n",
       "      <td>2015-07-15 17:43:00</td>\n",
       "      <td>6118 Fairway in Austin (TX)</td>\n",
       "      <td>Normal</td>\n",
       "      <td>Stray</td>\n",
       "      <td>*Mint</td>\n",
       "      <td>Intact Female</td>\n",
       "    </tr>\n",
       "  </tbody>\n",
       "</table>\n",
       "</div>"
      ],
      "text/plain": [
       "   age_upon_intake animal_id animal_type                     breed  \\\n",
       "0          8 years   A706918         Dog  English Springer Spaniel   \n",
       "5          2 years   A708452         Dog    Labrador Retriever Mix   \n",
       "8         5 months   A707375         Dog                  Pit Bull   \n",
       "9          2 years   A696408         Dog       Chihuahua Shorthair   \n",
       "12         4 weeks   A707658         Cat    Domestic Shorthair Mix   \n",
       "\n",
       "          color            datetime  \\\n",
       "0   White/Liver 2015-07-05 12:59:00   \n",
       "5   Black/White 2015-07-30 14:37:00   \n",
       "8   Brown/White 2015-07-11 18:19:00   \n",
       "9      Tricolor 2015-02-04 12:58:00   \n",
       "12  Black/White 2015-07-15 17:43:00   \n",
       "\n",
       "                                  found_location intake_condition  \\\n",
       "0               9409 Bluegrass Dr in Austin (TX)           Normal   \n",
       "5                                    Austin (TX)           Normal   \n",
       "8   Galilee Court And Damita Jo Dr in Manor (TX)           Normal   \n",
       "9                    9705 Thaxton in Austin (TX)           Normal   \n",
       "12                   6118 Fairway in Austin (TX)           Normal   \n",
       "\n",
       "      intake_type         name sex_upon_intake  \n",
       "0           Stray        Belle   Spayed Female  \n",
       "5   Public Assist       Mumble     Intact Male  \n",
       "8           Stray  *Candy Cane   Intact Female  \n",
       "9           Stray       *Pearl   Intact Female  \n",
       "12          Stray        *Mint   Intact Female  "
      ]
     },
     "execution_count": 25,
     "metadata": {},
     "output_type": "execute_result"
    }
   ],
   "source": [
    "intakes_2015.head()"
   ]
  },
  {
   "cell_type": "code",
   "execution_count": 26,
   "id": "4021a424-fb8d-4a96-844a-c633023b361f",
   "metadata": {},
   "outputs": [],
   "source": [
    "count_by_month = intakes_2015.groupby(intakes_2015['datetime'].dt.month).size()"
   ]
  },
  {
   "cell_type": "code",
   "execution_count": 27,
   "id": "5e6abebe-d9bc-4173-ae6c-a46d6f365dd5",
   "metadata": {},
   "outputs": [
    {
     "data": {
      "text/plain": [
       "datetime\n",
       "1     1198\n",
       "2     1119\n",
       "3     1346\n",
       "4     1543\n",
       "5     2094\n",
       "6     2189\n",
       "7     1635\n",
       "8     1718\n",
       "9     1591\n",
       "10    1740\n",
       "11    1411\n",
       "12    1128\n",
       "dtype: int64"
      ]
     },
     "execution_count": 27,
     "metadata": {},
     "output_type": "execute_result"
    }
   ],
   "source": [
    "count_by_month"
   ]
  },
  {
   "cell_type": "code",
   "execution_count": 28,
   "id": "80ed8e3d-96e9-40fd-8f97-ad9ef8bfe745",
   "metadata": {},
   "outputs": [
    {
     "name": "stdout",
     "output_type": "stream",
     "text": [
      "<class 'pandas.core.series.Series'>\n",
      "Index: 12 entries, 1 to 12\n",
      "Series name: None\n",
      "Non-Null Count  Dtype\n",
      "--------------  -----\n",
      "12 non-null     int64\n",
      "dtypes: int64(1)\n",
      "memory usage: 144.0 bytes\n"
     ]
    }
   ],
   "source": [
    "count_by_month.info()"
   ]
  },
  {
   "cell_type": "code",
   "execution_count": 29,
   "id": "741423b4-c47f-4dc8-af18-a09123845904",
   "metadata": {
    "scrolled": true
   },
   "outputs": [
    {
     "data": {
      "text/plain": [
       "datetime\n",
       "1    1198\n",
       "2    1119\n",
       "3    1346\n",
       "4    1543\n",
       "5    2094\n",
       "dtype: int64"
      ]
     },
     "execution_count": 29,
     "metadata": {},
     "output_type": "execute_result"
    }
   ],
   "source": [
    "count_by_month.head(5)"
   ]
  },
  {
   "cell_type": "code",
   "execution_count": 30,
   "id": "907e9f54-144d-4232-942d-cb5ef207485a",
   "metadata": {},
   "outputs": [],
   "source": [
    "monthly_avg = count_by_month.mean()"
   ]
  },
  {
   "cell_type": "markdown",
   "id": "b07952f2-1fff-44d6-b3dc-2b18394528c0",
   "metadata": {},
   "source": [
    "## ** Monthly Average for 2015"
   ]
  },
  {
   "cell_type": "code",
   "execution_count": 31,
   "id": "d6f387b1-3a25-4f2d-935d-a42bbba1bdc1",
   "metadata": {},
   "outputs": [
    {
     "name": "stdout",
     "output_type": "stream",
     "text": [
      "Monthly average for pets found in 2015 is 1559\n"
     ]
    }
   ],
   "source": [
    "print(f'Monthly average for pets found in 2015 is {round(monthly_avg)}')"
   ]
  },
  {
   "cell_type": "code",
   "execution_count": 32,
   "id": "bee7d3b3-5f8d-462b-bc81-d68dd9c9436f",
   "metadata": {},
   "outputs": [],
   "source": [
    "top_5_months = count_by_month.sort_values(ascending=False).head(5)"
   ]
  },
  {
   "cell_type": "code",
   "execution_count": 33,
   "id": "fc015b9e-c98c-4f14-8d7b-d5d3d4ac9e24",
   "metadata": {},
   "outputs": [
    {
     "data": {
      "text/plain": [
       "datetime\n",
       "6     2189\n",
       "5     2094\n",
       "10    1740\n",
       "8     1718\n",
       "7     1635\n",
       "dtype: int64"
      ]
     },
     "execution_count": 33,
     "metadata": {},
     "output_type": "execute_result"
    }
   ],
   "source": [
    "top_5_months"
   ]
  },
  {
   "cell_type": "markdown",
   "id": "5f293346-d3b4-4b31-897e-cc8847ed13b2",
   "metadata": {},
   "source": [
    "## **It seems like the summer months and October are the months when more animals are found"
   ]
  },
  {
   "cell_type": "markdown",
   "id": "8beb49a9-7737-4feb-8599-a127f4bb580d",
   "metadata": {},
   "source": [
    "### **To find this conclusion, we first convert datetime to a date object. Then we get the year of 2015. Then calculate by month. When we sort by the count in the month, we can pull the top 5 by using the sort_values and head() functions"
   ]
  },
  {
   "cell_type": "markdown",
   "id": "9e09d1ca-81d7-4b24-a4e3-bc3b69c80a96",
   "metadata": {},
   "source": [
    "## 3) What is the ratio of incoming pets vs. adopted pets?"
   ]
  },
  {
   "cell_type": "code",
   "execution_count": 34,
   "id": "52438b3c-bb6f-4977-b988-57a03d3c700a",
   "metadata": {
    "scrolled": true
   },
   "outputs": [
    {
     "name": "stdout",
     "output_type": "stream",
     "text": [
      "<class 'pandas.core.frame.DataFrame'>\n",
      "RangeIndex: 80187 entries, 0 to 80186\n",
      "Data columns (total 11 columns):\n",
      " #   Column            Non-Null Count  Dtype         \n",
      "---  ------            --------------  -----         \n",
      " 0   age_upon_intake   80187 non-null  object        \n",
      " 1   animal_id         80187 non-null  object        \n",
      " 2   animal_type       80187 non-null  object        \n",
      " 3   breed             80187 non-null  object        \n",
      " 4   color             80187 non-null  object        \n",
      " 5   datetime          80187 non-null  datetime64[ns]\n",
      " 6   found_location    80187 non-null  object        \n",
      " 7   intake_condition  80187 non-null  object        \n",
      " 8   intake_type       80187 non-null  object        \n",
      " 9   name              55603 non-null  object        \n",
      " 10  sex_upon_intake   80186 non-null  object        \n",
      "dtypes: datetime64[ns](1), object(10)\n",
      "memory usage: 6.7+ MB\n",
      "<class 'pandas.core.frame.DataFrame'>\n",
      "RangeIndex: 80681 entries, 0 to 80680\n",
      "Data columns (total 12 columns):\n",
      " #   Column            Non-Null Count  Dtype         \n",
      "---  ------            --------------  -----         \n",
      " 0   age_upon_outcome  80673 non-null  object        \n",
      " 1   animal_id         80681 non-null  object        \n",
      " 2   animal_type       80681 non-null  object        \n",
      " 3   breed             80681 non-null  object        \n",
      " 4   color             80681 non-null  object        \n",
      " 5   date_of_birth     80681 non-null  object        \n",
      " 6   datetime          80681 non-null  datetime64[ns]\n",
      " 7   monthyear         80681 non-null  object        \n",
      " 8   name              56116 non-null  object        \n",
      " 9   outcome_subtype   36893 non-null  object        \n",
      " 10  outcome_type      80667 non-null  object        \n",
      " 11  sex_upon_outcome  80679 non-null  object        \n",
      "dtypes: datetime64[ns](1), object(11)\n",
      "memory usage: 7.4+ MB\n"
     ]
    }
   ],
   "source": [
    "intakes.info()\n",
    "outcomes.info()"
   ]
  },
  {
   "cell_type": "code",
   "execution_count": 35,
   "id": "209ec5c4-b706-4576-9ef0-ce89de7eeecd",
   "metadata": {
    "scrolled": true
   },
   "outputs": [
    {
     "name": "stdout",
     "output_type": "stream",
     "text": [
      "<class 'pandas.core.frame.DataFrame'>\n",
      "RangeIndex: 79672 entries, 0 to 79671\n",
      "Data columns (total 41 columns):\n",
      " #   Column                      Non-Null Count  Dtype         \n",
      "---  ------                      --------------  -----         \n",
      " 0   age_upon_outcome            79672 non-null  object        \n",
      " 1   animal_id_outcome           79672 non-null  object        \n",
      " 2   date_of_birth               79672 non-null  object        \n",
      " 3   outcome_subtype             36348 non-null  object        \n",
      " 4   outcome_type                79662 non-null  object        \n",
      " 5   sex_upon_outcome            79671 non-null  object        \n",
      " 6   age_upon_outcome_(days)     79672 non-null  int64         \n",
      " 7   age_upon_outcome_(years)    79672 non-null  float64       \n",
      " 8   age_upon_outcome_age_group  79672 non-null  object        \n",
      " 9   outcome_datetime            79672 non-null  datetime64[ns]\n",
      " 10  outcome_month               79672 non-null  int64         \n",
      " 11  outcome_year                79672 non-null  int64         \n",
      " 12  outcome_monthyear           79672 non-null  object        \n",
      " 13  outcome_weekday             79672 non-null  object        \n",
      " 14  outcome_hour                79672 non-null  int64         \n",
      " 15  outcome_number              79672 non-null  float64       \n",
      " 16  dob_year                    79672 non-null  int64         \n",
      " 17  dob_month                   79672 non-null  int64         \n",
      " 18  dob_monthyear               79672 non-null  object        \n",
      " 19  age_upon_intake             79672 non-null  object        \n",
      " 20  animal_id_intake            79672 non-null  object        \n",
      " 21  animal_type                 79672 non-null  object        \n",
      " 22  breed                       79672 non-null  object        \n",
      " 23  color                       79672 non-null  object        \n",
      " 24  found_location              79672 non-null  object        \n",
      " 25  intake_condition            79672 non-null  object        \n",
      " 26  intake_type                 79672 non-null  object        \n",
      " 27  sex_upon_intake             79671 non-null  object        \n",
      " 28  count                       79672 non-null  int64         \n",
      " 29  age_upon_intake_(days)      79672 non-null  int64         \n",
      " 30  age_upon_intake_(years)     79672 non-null  float64       \n",
      " 31  age_upon_intake_age_group   79672 non-null  object        \n",
      " 32  intake_datetime             79672 non-null  datetime64[ns]\n",
      " 33  intake_month                79672 non-null  int64         \n",
      " 34  intake_year                 79672 non-null  int64         \n",
      " 35  intake_monthyear            79672 non-null  object        \n",
      " 36  intake_weekday              79672 non-null  object        \n",
      " 37  intake_hour                 79672 non-null  int64         \n",
      " 38  intake_number               79672 non-null  float64       \n",
      " 39  time_in_shelter             79672 non-null  object        \n",
      " 40  time_in_shelter_days        79672 non-null  float64       \n",
      "dtypes: datetime64[ns](2), float64(5), int64(11), object(23)\n",
      "memory usage: 24.9+ MB\n"
     ]
    }
   ],
   "source": [
    "intake_outcomes.info()"
   ]
  },
  {
   "cell_type": "code",
   "execution_count": 36,
   "id": "18d9fbdc-0186-4fe0-ac33-92bdf7323b63",
   "metadata": {},
   "outputs": [],
   "source": [
    "intakes_no_dup = intakes.drop_duplicates()"
   ]
  },
  {
   "cell_type": "code",
   "execution_count": 37,
   "id": "9fbd8188-6897-4e2f-a98f-bd1008b58a95",
   "metadata": {},
   "outputs": [
    {
     "name": "stdout",
     "output_type": "stream",
     "text": [
      "<class 'pandas.core.frame.DataFrame'>\n",
      "Index: 80161 entries, 0 to 80186\n",
      "Data columns (total 11 columns):\n",
      " #   Column            Non-Null Count  Dtype         \n",
      "---  ------            --------------  -----         \n",
      " 0   age_upon_intake   80161 non-null  object        \n",
      " 1   animal_id         80161 non-null  object        \n",
      " 2   animal_type       80161 non-null  object        \n",
      " 3   breed             80161 non-null  object        \n",
      " 4   color             80161 non-null  object        \n",
      " 5   datetime          80161 non-null  datetime64[ns]\n",
      " 6   found_location    80161 non-null  object        \n",
      " 7   intake_condition  80161 non-null  object        \n",
      " 8   intake_type       80161 non-null  object        \n",
      " 9   name              55586 non-null  object        \n",
      " 10  sex_upon_intake   80160 non-null  object        \n",
      "dtypes: datetime64[ns](1), object(10)\n",
      "memory usage: 7.3+ MB\n"
     ]
    }
   ],
   "source": [
    "intakes_no_dup.info()"
   ]
  },
  {
   "cell_type": "code",
   "execution_count": 38,
   "id": "965d43ed-19fa-48c2-90cb-6a23caa98563",
   "metadata": {},
   "outputs": [],
   "source": [
    "outcomes_no_dup = outcomes.drop_duplicates()"
   ]
  },
  {
   "cell_type": "code",
   "execution_count": 39,
   "id": "9f02f92b-f9f0-43a7-820a-f32d4a549fa9",
   "metadata": {},
   "outputs": [
    {
     "name": "stdout",
     "output_type": "stream",
     "text": [
      "<class 'pandas.core.frame.DataFrame'>\n",
      "Index: 80671 entries, 0 to 80680\n",
      "Data columns (total 12 columns):\n",
      " #   Column            Non-Null Count  Dtype         \n",
      "---  ------            --------------  -----         \n",
      " 0   age_upon_outcome  80663 non-null  object        \n",
      " 1   animal_id         80671 non-null  object        \n",
      " 2   animal_type       80671 non-null  object        \n",
      " 3   breed             80671 non-null  object        \n",
      " 4   color             80671 non-null  object        \n",
      " 5   date_of_birth     80671 non-null  object        \n",
      " 6   datetime          80671 non-null  datetime64[ns]\n",
      " 7   monthyear         80671 non-null  object        \n",
      " 8   name              56111 non-null  object        \n",
      " 9   outcome_subtype   36888 non-null  object        \n",
      " 10  outcome_type      80657 non-null  object        \n",
      " 11  sex_upon_outcome  80669 non-null  object        \n",
      "dtypes: datetime64[ns](1), object(11)\n",
      "memory usage: 8.0+ MB\n"
     ]
    }
   ],
   "source": [
    "outcomes_no_dup.info()"
   ]
  },
  {
   "cell_type": "code",
   "execution_count": 40,
   "id": "b93d15aa-f571-43aa-8d01-44ccedabfa58",
   "metadata": {},
   "outputs": [],
   "source": [
    "ratio2 = len(intakes_no_dup) / (outcomes_no_dup[\"outcome_type\"] == \"Adoption\").sum()"
   ]
  },
  {
   "cell_type": "raw",
   "id": "1e563472-9954-41a3-b23e-b2ae51629f27",
   "metadata": {},
   "source": [
    "print(ratio2)"
   ]
  },
  {
   "cell_type": "code",
   "execution_count": 41,
   "id": "f9fe28cb-137d-4c4b-abb4-ef019aed1a98",
   "metadata": {},
   "outputs": [],
   "source": [
    "#sort so the adopted outcome comes first \n",
    "#and not dropped from duplicates\n",
    "cleaned_combo = intake_outcomes.sort_values(\n",
    "    by=[\"animal_id_outcome\", \"outcome_type\"], ascending=[True,True])"
   ]
  },
  {
   "cell_type": "code",
   "execution_count": 42,
   "id": "aaa93f1e-5e50-463f-ba7f-3c5ae3cbf229",
   "metadata": {
    "scrolled": true
   },
   "outputs": [
    {
     "name": "stdout",
     "output_type": "stream",
     "text": [
      "<class 'pandas.core.frame.DataFrame'>\n",
      "Index: 79672 entries, 0 to 79671\n",
      "Data columns (total 41 columns):\n",
      " #   Column                      Non-Null Count  Dtype         \n",
      "---  ------                      --------------  -----         \n",
      " 0   age_upon_outcome            79672 non-null  object        \n",
      " 1   animal_id_outcome           79672 non-null  object        \n",
      " 2   date_of_birth               79672 non-null  object        \n",
      " 3   outcome_subtype             36348 non-null  object        \n",
      " 4   outcome_type                79662 non-null  object        \n",
      " 5   sex_upon_outcome            79671 non-null  object        \n",
      " 6   age_upon_outcome_(days)     79672 non-null  int64         \n",
      " 7   age_upon_outcome_(years)    79672 non-null  float64       \n",
      " 8   age_upon_outcome_age_group  79672 non-null  object        \n",
      " 9   outcome_datetime            79672 non-null  datetime64[ns]\n",
      " 10  outcome_month               79672 non-null  int64         \n",
      " 11  outcome_year                79672 non-null  int64         \n",
      " 12  outcome_monthyear           79672 non-null  object        \n",
      " 13  outcome_weekday             79672 non-null  object        \n",
      " 14  outcome_hour                79672 non-null  int64         \n",
      " 15  outcome_number              79672 non-null  float64       \n",
      " 16  dob_year                    79672 non-null  int64         \n",
      " 17  dob_month                   79672 non-null  int64         \n",
      " 18  dob_monthyear               79672 non-null  object        \n",
      " 19  age_upon_intake             79672 non-null  object        \n",
      " 20  animal_id_intake            79672 non-null  object        \n",
      " 21  animal_type                 79672 non-null  object        \n",
      " 22  breed                       79672 non-null  object        \n",
      " 23  color                       79672 non-null  object        \n",
      " 24  found_location              79672 non-null  object        \n",
      " 25  intake_condition            79672 non-null  object        \n",
      " 26  intake_type                 79672 non-null  object        \n",
      " 27  sex_upon_intake             79671 non-null  object        \n",
      " 28  count                       79672 non-null  int64         \n",
      " 29  age_upon_intake_(days)      79672 non-null  int64         \n",
      " 30  age_upon_intake_(years)     79672 non-null  float64       \n",
      " 31  age_upon_intake_age_group   79672 non-null  object        \n",
      " 32  intake_datetime             79672 non-null  datetime64[ns]\n",
      " 33  intake_month                79672 non-null  int64         \n",
      " 34  intake_year                 79672 non-null  int64         \n",
      " 35  intake_monthyear            79672 non-null  object        \n",
      " 36  intake_weekday              79672 non-null  object        \n",
      " 37  intake_hour                 79672 non-null  int64         \n",
      " 38  intake_number               79672 non-null  float64       \n",
      " 39  time_in_shelter             79672 non-null  object        \n",
      " 40  time_in_shelter_days        79672 non-null  float64       \n",
      "dtypes: datetime64[ns](2), float64(5), int64(11), object(23)\n",
      "memory usage: 25.5+ MB\n"
     ]
    }
   ],
   "source": [
    "cleaned_combo.info()"
   ]
  },
  {
   "cell_type": "code",
   "execution_count": 43,
   "id": "375bb037-e2a0-451b-82a3-02421acc3444",
   "metadata": {
    "jupyter": {
     "source_hidden": true
    }
   },
   "outputs": [],
   "source": [
    "ratio = len(cleaned_combo) / (cleaned_combo[\"outcome_type\"] == \"adoption\").sum()"
   ]
  },
  {
   "cell_type": "code",
   "execution_count": 44,
   "id": "902be0ca-45cc-4427-a6a5-e64a3217eef3",
   "metadata": {},
   "outputs": [
    {
     "data": {
      "text/plain": [
       "2.3716139786866703"
      ]
     },
     "execution_count": 44,
     "metadata": {},
     "output_type": "execute_result"
    }
   ],
   "source": [
    "ratio"
   ]
  },
  {
   "cell_type": "markdown",
   "id": "d64d41f2-2246-44f8-8cc9-8630df0ec17b",
   "metadata": {},
   "source": [
    "## ***The ratio calculated from number of pets incoming to adopted pets is 2.37"
   ]
  },
  {
   "cell_type": "code",
   "execution_count": 45,
   "id": "df8852cf-a566-40c1-ac72-84de78290a71",
   "metadata": {},
   "outputs": [],
   "source": [
    "###########################################"
   ]
  },
  {
   "cell_type": "markdown",
   "id": "52a17cf1-0e4c-481d-9231-33ac92faef5f",
   "metadata": {},
   "source": [
    "## 4) What is the distribution of the types of animals in the shelter?\n",
    "## Find the count of each type of animal in the shelter."
   ]
  },
  {
   "cell_type": "code",
   "execution_count": 46,
   "id": "e04c3825-704d-41b7-a090-3343b6952fff",
   "metadata": {},
   "outputs": [],
   "source": [
    "animal_counts = cleaned_combo[\"animal_type\"].value_counts()"
   ]
  },
  {
   "cell_type": "code",
   "execution_count": 47,
   "id": "092bbc3f-2c9a-4e28-a6cf-4fe1cc1f4c91",
   "metadata": {},
   "outputs": [
    {
     "name": "stdout",
     "output_type": "stream",
     "text": [
      "animal_type\n",
      "Dog      45366\n",
      "Cat      29539\n",
      "Other     4428\n",
      "Bird       339\n",
      "Name: count, dtype: int64\n"
     ]
    }
   ],
   "source": [
    "print(animal_counts)"
   ]
  },
  {
   "cell_type": "markdown",
   "id": "a1d4818b-8d1b-42c9-831e-875d81925c4c",
   "metadata": {},
   "source": [
    "## ****Distribution of animals \n",
    "Dogs = 45366\n",
    "Cats = 29539\n",
    "Birds = 339\n",
    "Other = 4428"
   ]
  },
  {
   "cell_type": "markdown",
   "id": "9e86ee18-d32d-416d-b1c8-05bd05f3d3ca",
   "metadata": {},
   "source": [
    "## ----------------------------------------"
   ]
  },
  {
   "cell_type": "markdown",
   "id": "397ca74e-2000-44e2-9330-bb5a7877b371",
   "metadata": {},
   "source": [
    "## 5)What are the adoption rates for specific breeds?\n",
    "## Find the top 5 dog breeds in the shelter (based on count) and then find the adoption percentage of each breed"
   ]
  },
  {
   "cell_type": "code",
   "execution_count": 48,
   "id": "3171b191-4dad-46fa-bca1-0d2b0eb7b2ab",
   "metadata": {},
   "outputs": [],
   "source": [
    "dogs = cleaned_combo[cleaned_combo[\"animal_type\"] == \"Dog\"]"
   ]
  },
  {
   "cell_type": "code",
   "execution_count": 49,
   "id": "598e350a-6ec8-4238-9b12-2bd34550ff5c",
   "metadata": {},
   "outputs": [
    {
     "name": "stdout",
     "output_type": "stream",
     "text": [
      "(45366, 41)\n"
     ]
    }
   ],
   "source": [
    "print(dogs.shape)"
   ]
  },
  {
   "cell_type": "code",
   "execution_count": 50,
   "id": "5c819e53-093a-4107-814b-61e8cf4432b7",
   "metadata": {
    "scrolled": true
   },
   "outputs": [
    {
     "name": "stdout",
     "output_type": "stream",
     "text": [
      "  age_upon_outcome animal_id_outcome        date_of_birth outcome_subtype  \\\n",
      "0         10 years           A006100  2007-07-09 00:00:00             NaN   \n",
      "1          7 years           A006100  2007-07-09 00:00:00             NaN   \n",
      "2          6 years           A006100  2007-07-09 00:00:00             NaN   \n",
      "3         10 years           A047759  2004-04-02 00:00:00         Partner   \n",
      "4         16 years           A134067  1997-10-16 00:00:00             NaN   \n",
      "\n",
      "      outcome_type sex_upon_outcome  age_upon_outcome_(days)  \\\n",
      "0  return to owner    neutered male                     3650   \n",
      "1  return to owner    neutered male                     2555   \n",
      "2  return to owner    neutered male                     2190   \n",
      "3         transfer    neutered male                     3650   \n",
      "4  return to owner    neutered male                     5840   \n",
      "\n",
      "   age_upon_outcome_(years) age_upon_outcome_age_group    outcome_datetime  \\\n",
      "0                      10.0                (7.5, 10.0] 2017-12-07 14:07:00   \n",
      "1                       7.0                 (5.0, 7.5] 2014-12-20 16:35:00   \n",
      "2                       6.0                 (5.0, 7.5] 2014-03-08 17:10:00   \n",
      "3                      10.0                (7.5, 10.0] 2014-04-07 15:12:00   \n",
      "4                      16.0               (15.0, 17.5] 2013-11-16 11:54:00   \n",
      "\n",
      "   ...  age_upon_intake_age_group     intake_datetime intake_month  \\\n",
      "0  ...                (7.5, 10.0] 2017-12-07 00:00:00           12   \n",
      "1  ...                 (5.0, 7.5] 2014-12-19 10:21:00           12   \n",
      "2  ...                 (5.0, 7.5] 2014-03-07 14:26:00            3   \n",
      "3  ...                (7.5, 10.0] 2014-04-02 15:55:00            4   \n",
      "4  ...               (15.0, 17.5] 2013-11-16 09:02:00           11   \n",
      "\n",
      "  intake_year  intake_monthyear  intake_weekday  intake_hour  intake_number  \\\n",
      "0        2017           2017-12        Thursday           14            1.0   \n",
      "1        2014           2014-12          Friday           10            2.0   \n",
      "2        2014           2014-03          Friday           14            3.0   \n",
      "3        2014           2014-04       Wednesday           15            1.0   \n",
      "4        2013           2013-11        Saturday            9            1.0   \n",
      "\n",
      "             time_in_shelter time_in_shelter_days  \n",
      "0  0 days 14:07:00.000000000             0.588194  \n",
      "1  1 days 06:14:00.000000000             1.259722  \n",
      "2  1 days 02:44:00.000000000             1.113889  \n",
      "3  4 days 23:17:00.000000000             4.970139  \n",
      "4  0 days 02:52:00.000000000             0.119444  \n",
      "\n",
      "[5 rows x 41 columns]\n"
     ]
    }
   ],
   "source": [
    "print(dogs.head())"
   ]
  },
  {
   "cell_type": "code",
   "execution_count": 51,
   "id": "42a30d6b-6822-483c-a1e1-5b916bec0900",
   "metadata": {
    "scrolled": true
   },
   "outputs": [
    {
     "data": {
      "text/plain": [
       "age_upon_outcome                      object\n",
       "animal_id_outcome                     object\n",
       "date_of_birth                         object\n",
       "outcome_subtype                       object\n",
       "outcome_type                          object\n",
       "sex_upon_outcome                      object\n",
       "age_upon_outcome_(days)                int64\n",
       "age_upon_outcome_(years)             float64\n",
       "age_upon_outcome_age_group            object\n",
       "outcome_datetime              datetime64[ns]\n",
       "outcome_month                          int64\n",
       "outcome_year                           int64\n",
       "outcome_monthyear                     object\n",
       "outcome_weekday                       object\n",
       "outcome_hour                           int64\n",
       "outcome_number                       float64\n",
       "dob_year                               int64\n",
       "dob_month                              int64\n",
       "dob_monthyear                         object\n",
       "age_upon_intake                       object\n",
       "animal_id_intake                      object\n",
       "animal_type                           object\n",
       "breed                                 object\n",
       "color                                 object\n",
       "found_location                        object\n",
       "intake_condition                      object\n",
       "intake_type                           object\n",
       "sex_upon_intake                       object\n",
       "count                                  int64\n",
       "age_upon_intake_(days)                 int64\n",
       "age_upon_intake_(years)              float64\n",
       "age_upon_intake_age_group             object\n",
       "intake_datetime               datetime64[ns]\n",
       "intake_month                           int64\n",
       "intake_year                            int64\n",
       "intake_monthyear                      object\n",
       "intake_weekday                        object\n",
       "intake_hour                            int64\n",
       "intake_number                        float64\n",
       "time_in_shelter                       object\n",
       "time_in_shelter_days                 float64\n",
       "dtype: object"
      ]
     },
     "execution_count": 51,
     "metadata": {},
     "output_type": "execute_result"
    }
   ],
   "source": [
    "dogs.dtypes"
   ]
  },
  {
   "cell_type": "code",
   "execution_count": 52,
   "id": "c4687e82-7d13-45f7-9dd7-6d7132305e96",
   "metadata": {},
   "outputs": [],
   "source": [
    "breed_counts = dogs['breed'].value_counts()"
   ]
  },
  {
   "cell_type": "code",
   "execution_count": 53,
   "id": "870d6fa2-10b8-4c85-a2c4-406ded92986e",
   "metadata": {},
   "outputs": [],
   "source": [
    "top5_breeds = breed_counts.head(5)"
   ]
  },
  {
   "cell_type": "code",
   "execution_count": 54,
   "id": "c8dcc87d-d35c-4715-8e18-ad333fac5660",
   "metadata": {},
   "outputs": [
    {
     "name": "stdout",
     "output_type": "stream",
     "text": [
      "breed\n",
      "Pit Bull Mix                 6256\n",
      "Chihuahua Shorthair Mix      4831\n",
      "Labrador Retriever Mix       4789\n",
      "German Shepherd Mix          1950\n",
      "Australian Cattle Dog Mix    1099\n",
      "Name: count, dtype: int64\n"
     ]
    }
   ],
   "source": [
    "print(top5_breeds)"
   ]
  },
  {
   "cell_type": "code",
   "execution_count": 55,
   "id": "268e8dfc-98c8-4ebc-8550-36e417da858e",
   "metadata": {},
   "outputs": [],
   "source": [
    "percentage_adopted = {}\n",
    "for breed in top5_breeds.index:\n",
    "    total = dogs[dogs['breed'] == breed].shape[0]\n",
    "    adopted = dogs[(dogs['breed'] == breed) & (dogs['outcome_type'] =='adoption')].shape[0]\n",
    "    percentage_adopted[breed] = (adopted / total) * 100"
   ]
  },
  {
   "cell_type": "code",
   "execution_count": 56,
   "id": "701fed06-bc90-4ae7-bae8-f0accc39b2ba",
   "metadata": {},
   "outputs": [
    {
     "name": "stdout",
     "output_type": "stream",
     "text": [
      "1099 607 {'Pit Bull Mix': 37.148337595907925, 'Chihuahua Shorthair Mix': 46.98820120057959, 'Labrador Retriever Mix': 49.446648569638754, 'German Shepherd Mix': 47.28205128205128, 'Australian Cattle Dog Mix': 55.23202911737943}\n"
     ]
    }
   ],
   "source": [
    "print(f'{total} {adopted} {percentage_adopted}')"
   ]
  },
  {
   "cell_type": "markdown",
   "id": "221397a3-bf72-4c69-9cf4-6fd19a27df5c",
   "metadata": {},
   "source": [
    "## *****Adoption rates based on breed"
   ]
  },
  {
   "cell_type": "code",
   "execution_count": 57,
   "id": "f5b07589-292a-45cf-a678-fcc7779bcf78",
   "metadata": {},
   "outputs": [
    {
     "name": "stdout",
     "output_type": "stream",
     "text": [
      "Pit Bull Mix: 37.15%\n",
      "Chihuahua Shorthair Mix: 46.99%\n",
      "Labrador Retriever Mix: 49.45%\n",
      "German Shepherd Mix: 47.28%\n",
      "Australian Cattle Dog Mix: 55.23%\n"
     ]
    }
   ],
   "source": [
    "for breed, pct in percentage_adopted.items():\n",
    "    print(f\"{breed}: {pct:.2f}%\")"
   ]
  },
  {
   "cell_type": "code",
   "execution_count": 58,
   "id": "4983787e-48fc-4fc9-9905-af0d698ba50f",
   "metadata": {},
   "outputs": [],
   "source": [
    "color_counts =  cleaned_combo['color'].value_counts()"
   ]
  },
  {
   "cell_type": "code",
   "execution_count": 59,
   "id": "2b37f595-cd99-4a05-8404-b8bbb2238836",
   "metadata": {},
   "outputs": [],
   "source": [
    "top_colors = color_counts.head(5)"
   ]
  },
  {
   "cell_type": "code",
   "execution_count": 60,
   "id": "2c97645f-9485-4313-b471-f6defa71bb58",
   "metadata": {},
   "outputs": [
    {
     "name": "stdout",
     "output_type": "stream",
     "text": [
      "color\n",
      "Black/White    8270\n",
      "Black          6673\n",
      "Brown Tabby    4471\n",
      "Brown          3598\n",
      "White          2835\n",
      "Name: count, dtype: int64\n"
     ]
    }
   ],
   "source": [
    "print(top_colors)"
   ]
  },
  {
   "cell_type": "code",
   "execution_count": 61,
   "id": "43d3a1fc-e58a-4495-baa6-8cc1aa5df73a",
   "metadata": {},
   "outputs": [],
   "source": [
    "## dictionary with color as key pct as val\n",
    "percentage_adopted_by_color = {}\n",
    "for color in top_colors.index:\n",
    "    total = cleaned_combo[cleaned_combo['color'] == color].shape[0]\n",
    "    adopted = cleaned_combo[(cleaned_combo['color'] == color) & (cleaned_combo['outcome_type'] =='adoption')].shape[0]\n",
    "    percentage_adopted_by_color[color] = (adopted / total) * 100"
   ]
  },
  {
   "cell_type": "markdown",
   "id": "f9b0136e-3f86-4358-9d63-e1e1c5d19bb7",
   "metadata": {},
   "source": [
    "## ******Adoption rates based on color"
   ]
  },
  {
   "cell_type": "code",
   "execution_count": 62,
   "id": "1599f10a-1834-4cd2-83eb-735ac7c56c9d",
   "metadata": {},
   "outputs": [
    {
     "name": "stdout",
     "output_type": "stream",
     "text": [
      "Black/White: 45.20%\n",
      "Black: 40.34%\n",
      "Brown Tabby: 41.85%\n",
      "Brown: 22.07%\n",
      "White: 37.57%\n"
     ]
    }
   ],
   "source": [
    "for color, pct in percentage_adopted_by_color.items():\n",
    "    print(f\"{color}: {pct:.2f}%\")"
   ]
  },
  {
   "cell_type": "code",
   "execution_count": 63,
   "id": "03062956-cb3f-4dea-89f4-e57813273d6d",
   "metadata": {
    "scrolled": true
   },
   "outputs": [
    {
     "name": "stdout",
     "output_type": "stream",
     "text": [
      "<class 'pandas.core.frame.DataFrame'>\n",
      "RangeIndex: 79672 entries, 0 to 79671\n",
      "Data columns (total 41 columns):\n",
      " #   Column                      Non-Null Count  Dtype         \n",
      "---  ------                      --------------  -----         \n",
      " 0   age_upon_outcome            79672 non-null  object        \n",
      " 1   animal_id_outcome           79672 non-null  object        \n",
      " 2   date_of_birth               79672 non-null  object        \n",
      " 3   outcome_subtype             36348 non-null  object        \n",
      " 4   outcome_type                79662 non-null  object        \n",
      " 5   sex_upon_outcome            79671 non-null  object        \n",
      " 6   age_upon_outcome_(days)     79672 non-null  int64         \n",
      " 7   age_upon_outcome_(years)    79672 non-null  float64       \n",
      " 8   age_upon_outcome_age_group  79672 non-null  object        \n",
      " 9   outcome_datetime            79672 non-null  datetime64[ns]\n",
      " 10  outcome_month               79672 non-null  int64         \n",
      " 11  outcome_year                79672 non-null  int64         \n",
      " 12  outcome_monthyear           79672 non-null  object        \n",
      " 13  outcome_weekday             79672 non-null  object        \n",
      " 14  outcome_hour                79672 non-null  int64         \n",
      " 15  outcome_number              79672 non-null  float64       \n",
      " 16  dob_year                    79672 non-null  int64         \n",
      " 17  dob_month                   79672 non-null  int64         \n",
      " 18  dob_monthyear               79672 non-null  object        \n",
      " 19  age_upon_intake             79672 non-null  object        \n",
      " 20  animal_id_intake            79672 non-null  object        \n",
      " 21  animal_type                 79672 non-null  object        \n",
      " 22  breed                       79672 non-null  object        \n",
      " 23  color                       79672 non-null  object        \n",
      " 24  found_location              79672 non-null  object        \n",
      " 25  intake_condition            79672 non-null  object        \n",
      " 26  intake_type                 79672 non-null  object        \n",
      " 27  sex_upon_intake             79671 non-null  object        \n",
      " 28  count                       79672 non-null  int64         \n",
      " 29  age_upon_intake_(days)      79672 non-null  int64         \n",
      " 30  age_upon_intake_(years)     79672 non-null  float64       \n",
      " 31  age_upon_intake_age_group   79672 non-null  object        \n",
      " 32  intake_datetime             79672 non-null  datetime64[ns]\n",
      " 33  intake_month                79672 non-null  int64         \n",
      " 34  intake_year                 79672 non-null  int64         \n",
      " 35  intake_monthyear            79672 non-null  object        \n",
      " 36  intake_weekday              79672 non-null  object        \n",
      " 37  intake_hour                 79672 non-null  int64         \n",
      " 38  intake_number               79672 non-null  float64       \n",
      " 39  time_in_shelter             79672 non-null  object        \n",
      " 40  time_in_shelter_days        79672 non-null  float64       \n",
      "dtypes: datetime64[ns](2), float64(5), int64(11), object(23)\n",
      "memory usage: 24.9+ MB\n"
     ]
    }
   ],
   "source": [
    "intake_outcomes.info()"
   ]
  },
  {
   "cell_type": "code",
   "execution_count": 64,
   "id": "f31c6df2-7237-4e8b-848a-76ce8d7c1397",
   "metadata": {},
   "outputs": [],
   "source": [
    "fixed_in_shelter = intake_outcomes[intake_outcomes['sex_upon_intake'].str.contains('intact', na=False)].copy()\n"
   ]
  },
  {
   "cell_type": "code",
   "execution_count": 65,
   "id": "ef86a613-c930-4e3e-8ee6-ce1ed182d008",
   "metadata": {},
   "outputs": [],
   "source": [
    "intake_outcomes['outcome_datetime'] = pd.to_datetime(intake_outcomes['outcome_datetime'])\n",
    "fixed_in_shelter['month'] = fixed_in_shelter['outcome_datetime'].dt.to_period('M')\n"
   ]
  },
  {
   "cell_type": "code",
   "execution_count": 66,
   "id": "0753da98-e0b7-44e8-b8ec-15cb8eb6c040",
   "metadata": {},
   "outputs": [
    {
     "name": "stdout",
     "output_type": "stream",
     "text": [
      "count      55.000000\n",
      "mean      891.290909\n",
      "std       232.715585\n",
      "min        40.000000\n",
      "25%       726.000000\n",
      "50%       894.000000\n",
      "75%      1049.000000\n",
      "max      1496.000000\n",
      "dtype: float64\n"
     ]
    }
   ],
   "source": [
    "fixed_in_shelter['month'] = fixed_in_shelter['outcome_datetime'].dt.to_period('M')\n",
    "\n",
    "# Count spay/neuter per month\n",
    "monthly_fixed = fixed_in_shelter.groupby('month').size()\n",
    "print(monthly_fixed.describe())\n"
   ]
  },
  {
   "cell_type": "markdown",
   "id": "205e49ea-c230-4520-a7a1-073dce007376",
   "metadata": {},
   "source": [
    "## *******Monthly fixed since October 2010"
   ]
  },
  {
   "cell_type": "code",
   "execution_count": 67,
   "id": "49a8840c-32d2-4d15-a2c0-ba759cb99ee6",
   "metadata": {
    "scrolled": true
   },
   "outputs": [
    {
     "name": "stdout",
     "output_type": "stream",
     "text": [
      "month\n",
      "2013-10     700\n",
      "2013-11     748\n",
      "2013-12     924\n",
      "2014-01     717\n",
      "2014-02     623\n",
      "2014-03     830\n",
      "2014-04     846\n",
      "2014-05    1082\n",
      "2014-06    1193\n",
      "2014-07    1496\n",
      "2014-08    1250\n",
      "2014-09    1101\n",
      "2014-10    1007\n",
      "2014-11     919\n",
      "2014-12     887\n",
      "2015-01     720\n",
      "2015-02     648\n",
      "2015-03     643\n",
      "2015-04     695\n",
      "2015-05    1035\n",
      "2015-06    1212\n",
      "2015-07    1301\n",
      "2015-08    1107\n",
      "2015-09     973\n",
      "2015-10     953\n",
      "2015-11    1010\n",
      "2015-12     841\n",
      "2016-01     785\n",
      "2016-02     646\n",
      "2016-03     732\n",
      "2016-04     672\n",
      "2016-05     957\n",
      "2016-06    1076\n",
      "2016-07    1100\n",
      "2016-08     976\n",
      "2016-09    1057\n",
      "2016-10     850\n",
      "2016-11     894\n",
      "2016-12     928\n",
      "2017-01     783\n",
      "2017-02     739\n",
      "2017-03     699\n",
      "2017-04     768\n",
      "2017-05     987\n",
      "2017-06    1091\n",
      "2017-07    1194\n",
      "2017-08    1139\n",
      "2017-09     955\n",
      "2017-10    1041\n",
      "2017-11     750\n",
      "2017-12     755\n",
      "2018-01     697\n",
      "2018-02     603\n",
      "2018-03     646\n",
      "2018-04      40\n",
      "Freq: M, dtype: int64\n"
     ]
    }
   ],
   "source": [
    "print(monthly_fixed)"
   ]
  },
  {
   "cell_type": "code",
   "execution_count": null,
   "id": "c39b6776-fbd1-4e92-b818-6b3bd8823556",
   "metadata": {},
   "outputs": [],
   "source": []
  }
 ],
 "metadata": {
  "kernelspec": {
   "display_name": "Python 3 (ipykernel)",
   "language": "python",
   "name": "python3"
  },
  "language_info": {
   "codemirror_mode": {
    "name": "ipython",
    "version": 3
   },
   "file_extension": ".py",
   "mimetype": "text/x-python",
   "name": "python",
   "nbconvert_exporter": "python",
   "pygments_lexer": "ipython3",
   "version": "3.11.1"
  }
 },
 "nbformat": 4,
 "nbformat_minor": 5
}
